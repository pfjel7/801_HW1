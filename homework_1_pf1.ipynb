{
 "cells": [
  {
   "cell_type": "markdown",
   "metadata": {},
   "source": [
    "# Overview\n",
    "\n",
    "### Objective\n",
    "This homework assignment is intended to get you comfortable using Python, especially file I/O and the data structures and types we've talked about in class. However, I fully expect that you will need some things that we haven't discussed in class for an elegant solution. Read the docs, google, and check Stack Overflow - learn to learn. Make sure you have downloaded War and Peace from the data folder and know its filepath.\n",
    "\n",
    "### Grading \n",
    "This assignment is worth ten points. You should complete it in this notebook. When complete, you should email the assignment to Dr. Johnson. The due date is Wednesday, June 1, by 9:00AM. Late assignments will be penalized 1 point per day (that's one full letter grade per day late). Submission anytime after 9:00AM on June 1 counts as 1 day late.\n",
    "\n",
    "### Working together\n",
    "You may discuss and work on this assignment with your peers. However, you must submit your own work, copying is not permitted. You will be graded individually, and if your work appears to be a copy of someone else's, I may ask for you to demonstrate in person and on the spot your ability to write the code to solve a similar problem.\n",
    "\n",
    "### Format\n",
    "Do all of your work in this notebook. I should be able to change the filepath to war and peace in the first cell block, after which I should be able to restart the kernel and run all cells to see the correct output. I should not need to make any other changes to the file. You should verify that you've done the work correctly by doing this yourself (restart the kernel and run all using the 'kernel' dropdown menu above).\n",
    "\n",
    "# Instructions\n",
    "\n",
    "1. Write a function that returns (as an int) the number of lines in the file. (3 points)\n",
    "2. Use the function in a print statement to nicely format and print 'War and Peace is ___ lines long'. (1 point)\n",
    "3. Write a function that searches through War and Peace for the first occurrence of a character's name. (4 points)\n",
    "4. Use the function to find the first occurrences of the following character's names: Dokhturov (last name only), Vasili Kuragin (both names), Langeron (last name only). Nicely format the print statement to report the line on which each character's name occurred. (2 points)  \n",
    "5. (Bonus): Write a function that counts the number of occurrences of a character's name. How many times does the name Bezukhov occur? (2 points)"
   ]
  },
  {
   "cell_type": "code",
   "execution_count": 1,
   "metadata": {
    "collapsed": false
   },
   "outputs": [],
   "source": [
    "# your code here:\n",
    "def readfile():\n",
    "    with open('../data/war_and_peace.txt') as f:\n",
    "        content = f.read()\n",
    "        return content\n",
    "        \n",
    "Book = readfile()       "
   ]
  },
  {
   "cell_type": "code",
   "execution_count": 2,
   "metadata": {
    "collapsed": false
   },
   "outputs": [
    {
     "name": "stdout",
     "output_type": "stream",
     "text": [
      "War and Peace is 65008 lines long.\n"
     ]
    }
   ],
   "source": [
    "lineCount = len(Book.split('\\n'))\n",
    "\n",
    "print('War and Peace is {} lines long.'.format(lineCount))"
   ]
  },
  {
   "cell_type": "code",
   "execution_count": 3,
   "metadata": {
    "collapsed": false
   },
   "outputs": [
    {
     "name": "stdout",
     "output_type": "stream",
     "text": [
      "Dokhturov's name occurs first on line 8687.\n"
     ]
    }
   ],
   "source": [
    "def nameFirstOnLine(name='Dokhturov'):\n",
    "    lines = Book.split('\\n')\n",
    "    for i in range(len(lines)):\n",
    "        if lines[i].find(name)!= -1:\n",
    "            print(\"{}'s name occurs first on line {}.\".format(name, i+1)) \n",
    "            break\n",
    "        else: \n",
    "            pass\n",
    "        \n",
    "nameFirstOnLine()"
   ]
  },
  {
   "cell_type": "code",
   "execution_count": 4,
   "metadata": {
    "collapsed": false
   },
   "outputs": [
    {
     "name": "stdout",
     "output_type": "stream",
     "text": [
      "Vasili Kuragin's name occurs first on line 817.\n"
     ]
    }
   ],
   "source": [
    "nameFirstOnLine('Vasili Kuragin')"
   ]
  },
  {
   "cell_type": "code",
   "execution_count": 5,
   "metadata": {
    "collapsed": false
   },
   "outputs": [
    {
     "name": "stdout",
     "output_type": "stream",
     "text": [
      "Langeron's name occurs first on line 14379.\n"
     ]
    }
   ],
   "source": [
    "nameFirstOnLine('Langeron')"
   ]
  },
  {
   "cell_type": "code",
   "execution_count": 6,
   "metadata": {
    "collapsed": false
   },
   "outputs": [
    {
     "name": "stdout",
     "output_type": "stream",
     "text": [
      "Bonus question: The name 'Bezukhov' occurs 97 times in War and Peace.\n"
     ]
    }
   ],
   "source": [
    "def countNameOccurences(name='Bezukhov'):\n",
    "    n = Book.count(name)\n",
    "    print(\"Bonus question: The name '{}' occurs {} times in War and Peace.\".format(name, n))\n",
    "\n",
    "countNameOccurences()"
   ]
  }
 ],
 "metadata": {
  "kernelspec": {
   "display_name": "Python 3",
   "language": "python",
   "name": "python3"
  },
  "language_info": {
   "codemirror_mode": {
    "name": "ipython",
    "version": 3
   },
   "file_extension": ".py",
   "mimetype": "text/x-python",
   "name": "python",
   "nbconvert_exporter": "python",
   "pygments_lexer": "ipython3",
   "version": "3.5.1"
  }
 },
 "nbformat": 4,
 "nbformat_minor": 0
}
