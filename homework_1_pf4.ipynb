{
 "cells": [
  {
   "cell_type": "markdown",
   "metadata": {},
   "source": [
    "# Overview\n",
    "\n",
    "### Objective\n",
    "This homework assignment is intended to get you comfortable using Python, especially file I/O and the data structures and types we've talked about in class. However, I fully expect that you will need some things that we haven't discussed in class for an elegant solution. Read the docs, google, and check Stack Overflow - learn to learn. Make sure you have downloaded War and Peace from the data folder and know its filepath.\n",
    "\n",
    "### Grading \n",
    "This assignment is worth ten points. You should complete it in this notebook. When complete, you should email the assignment to Dr. Johnson. The due date is Wednesday, June 1, by 9:00AM. Late assignments will be penalized 1 point per day (that's one full letter grade per day late). Submission anytime after 9:00AM on June 1 counts as 1 day late.\n",
    "\n",
    "### Working together\n",
    "You may discuss and work on this assignment with your peers. However, you must submit your own work, copying is not permitted. You will be graded individually, and if your work appears to be a copy of someone else's, I may ask for you to demonstrate in person and on the spot your ability to write the code to solve a similar problem.\n",
    "\n",
    "### Format\n",
    "Do all of your work in this notebook. I should be able to change the filepath to war and peace in the first cell block, after which I should be able to restart the kernel and run all cells to see the correct output. I should not need to make any other changes to the file. You should verify that you've done the work correctly by doing this yourself (restart the kernel and run all using the 'kernel' dropdown menu above).\n",
    "\n",
    "# Instructions\n",
    "\n",
    "1. Write a function that returns (as an int) the number of lines in the file. (3 points)\n",
    "2. Use the function in a print statement to nicely format and print 'War and Peace is ___ lines long'. (1 point)\n",
    "3. Write a function that searches through War and Peace for the first occurrence of a character's name. (4 points)\n",
    "4. Use the function to find the first occurrences of the following character's names: Dokhturov (last name only), Vasili Kuragin (both names), Langeron (last name only). Nicely format the print statement to report the line on which each character's name occurred. (2 points)  \n",
    "5. (Bonus): Write a function that counts the number of occurrences of a character's name. How many times does the name Bezukhov occur? (2 points)"
   ]
  },
  {
   "cell_type": "code",
   "execution_count": 1,
   "metadata": {
    "collapsed": true
   },
   "outputs": [],
   "source": [
    "# Constants\n",
    "\n",
    "filelocation = \"../data/war_and_peace.txt\""
   ]
  },
  {
   "cell_type": "code",
   "execution_count": 2,
   "metadata": {
    "collapsed": false
   },
   "outputs": [
    {
     "data": {
      "text/plain": [
       "65007"
      ]
     },
     "execution_count": 2,
     "metadata": {},
     "output_type": "execute_result"
    }
   ],
   "source": [
    "# Functions\n",
    "\n",
    "def countLines(path=filelocation):\n",
    "    with open(path) as file:\n",
    "        lines = sum(1 for line in file)\n",
    "    return lines\n",
    "\n",
    "countLines()"
   ]
  },
  {
   "cell_type": "code",
   "execution_count": 3,
   "metadata": {
    "collapsed": false
   },
   "outputs": [],
   "source": [
    "# Name: readfile\n",
    "# Parameters:filepath, defaults for assigned text \n",
    "# Description: Reads file; Returns stream \n",
    "#\n",
    "def readfile(filepath=\"../data/war_and_peace.txt\"):\n",
    "    with open(filepath) as f:\n",
    "        content = f.read()\n",
    "        return content\n",
    "# \n",
    "# Stores opened file as a string variable.\n",
    "#\n",
    "Book = readfile()  "
   ]
  },
  {
   "cell_type": "code",
   "execution_count": 11,
   "metadata": {
    "collapsed": false
   },
   "outputs": [
    {
     "name": "stdout",
     "output_type": "stream",
     "text": [
      "However, if the text--as a string--is split at 'new line' symbols, then War and Peace is 65008 lines long. I'm not sure why this count is different.\n"
     ]
    }
   ],
   "source": [
    "# Name: linecount\n",
    "# Parameters: text\n",
    "# Function: Counts separate lines in text file\n",
    "#\n",
    "def altLineCount(path=filelocation):\n",
    "    with open(path) as file:\n",
    "        text = file.read()\n",
    "        lines = len(text.split('\\n'))\n",
    "#       count=0\n",
    "#       for i in range(len(lines)):\n",
    "#           if lines[i] == []:\n",
    "#           count += 1 \n",
    "        return lines\n",
    "\n",
    "print(\"However, if the text--as a string--is split at 'new line' \\\n",
    "symbols, then War and Peace is {} lines long. I'm not sure why \\\n",
    "this count is different.\".format(altLineCount()))"
   ]
  },
  {
   "cell_type": "code",
   "execution_count": 5,
   "metadata": {
    "collapsed": false
   },
   "outputs": [
    {
     "name": "stdout",
     "output_type": "stream",
     "text": [
      "Dokhturov's name occurs first on line 8687.\n"
     ]
    }
   ],
   "source": [
    "# Name: nameFirstOnLine\n",
    "# Parameter: name\n",
    "# Function: Returns number of line where character's name first occurs\n",
    "\n",
    "def nameFirstOnLine(path=filelocation, name='Dokhturov'):\n",
    "    import re\n",
    "    with open(path) as file:\n",
    "        text = file.read()\n",
    "        lines = text.split('\\n')\n",
    "        for i in range(len(lines)):\n",
    "            namebegin = lines[i].find(name)\n",
    "            if namebegin != -1:\n",
    "                print(\"{}'s name occurs first on line {}.\".format(name, i+1)) \n",
    "                break\n",
    "            else: \n",
    "                pass\n",
    "        \n",
    "nameFirstOnLine()"
   ]
  },
  {
   "cell_type": "code",
   "execution_count": 6,
   "metadata": {
    "collapsed": false
   },
   "outputs": [
    {
     "name": "stdout",
     "output_type": "stream",
     "text": [
      "Vasili Kuragin's name occurs first on line 817.\n"
     ]
    }
   ],
   "source": [
    "nameFirstOnLine(filelocation, 'Vasili Kuragin')"
   ]
  },
  {
   "cell_type": "code",
   "execution_count": 7,
   "metadata": {
    "collapsed": false
   },
   "outputs": [
    {
     "name": "stdout",
     "output_type": "stream",
     "text": [
      "Langeron's name occurs first on line 14379.\n"
     ]
    }
   ],
   "source": [
    "nameFirstOnLine(filelocation, 'Langeron')"
   ]
  },
  {
   "cell_type": "code",
   "execution_count": 12,
   "metadata": {
    "collapsed": false
   },
   "outputs": [
    {
     "name": "stdout",
     "output_type": "stream",
     "text": [
      "Bonus, 1st try (brute force): The name 'Bezukhov' occurs 72     times in War and Peace.\n"
     ]
    }
   ],
   "source": [
    "# Name: countNameOccurences\n",
    "# Parameters: name\n",
    "# Description:  Counts all occurences in War and Peace of entered name (w/ default).\n",
    "#               Controls for all additions to and punctuation after searched name.\n",
    "\n",
    "def countNameOccurences(name='Bezukhov'):\n",
    "    nameAlone = name + \" \"\n",
    "    nameApost = name + \"'\"\n",
    "    nameComma = name + \",\" \n",
    "    namePeriod = name + \".\"\n",
    "    nameQM = name + \"?\"\n",
    "    nameEM = name + \"!\"\n",
    "    nameSC = name + \";\"\n",
    "    nameCP = name + \")\"\n",
    "    nameOP = name + \"(\"\n",
    "    nameNL = name + \"\\n\"\n",
    "    m = Book.count(nameAlone)\n",
    "    o = Book.count(nameApost)\n",
    "    p = Book.count(nameComma)\n",
    "    q = Book.count(namePeriod)\n",
    "    r = Book.count(nameQM)\n",
    "    s = Book.count(nameEM)\n",
    "    t = Book.count(nameSC)\n",
    "    u = Book.count(nameCP)\n",
    "    v = Book.count(nameOP)\n",
    "    x = Book.count(nameNL)\n",
    "    \n",
    "    n = m + o + p + q + r + s + t + u + v + x\n",
    "\n",
    "    print(\"Bonus, 1st try (brute force): The name '{}' occurs {} \\\n",
    "    times in War and Peace.\".format(name, n))\n",
    "\n",
    "countNameOccurences('Bezukhov')"
   ]
  },
  {
   "cell_type": "code",
   "execution_count": 9,
   "metadata": {
    "collapsed": false
   },
   "outputs": [],
   "source": [
    "# Alternative method for finding first name occurence\n",
    "\n",
    "def altCountNameOccurences(path=filelocation,name=\"Bezukhov\"):\n",
    "    import re\n",
    "    with open(path) as file:\n",
    "        counta = 0\n",
    "        countb = 0\n",
    "        countc = 0\n",
    "        \n",
    "        for line in file:\n",
    "            \n",
    "            m = re.search(\"Bezukhov[a-z]\", line) # MatchObject\n",
    "            n = re.search(\"Bezukhov\", line)      # As above.\n",
    "            \n",
    "            if n == m: # if name is longer than given, ...\n",
    "                pass\n",
    "                \n",
    "            else: \n",
    "                if n != None and m != None:\n",
    "                    \n",
    "                    nspan = n.span()\n",
    "                    mspan = m.span()\n",
    "                    if nspan[1] == mspan[1]: # If n is an m ...\n",
    "                        counta += 1\n",
    "                    else:\n",
    "                        n = re.search(\"Bezukhov\", line[nspan[1]:])\n",
    "\n",
    "                        if n != None: \n",
    "                            nnspan = n.span()\n",
    "                            if nnspan[-1]-nnspan[0]<8:\n",
    "                                countc += 1\n",
    "                            else:\n",
    "                                pass\n",
    "\n",
    "                        else:\n",
    "                            pass\n",
    "                    \n",
    "                else:\n",
    "                    countb += 1\n",
    "\n",
    "    count = counta + countb + countc                       \n",
    "\n",
    "    return count \n",
    "\n",
    "\n"
   ]
  },
  {
   "cell_type": "code",
   "execution_count": 13,
   "metadata": {
    "collapsed": false,
    "scrolled": true
   },
   "outputs": [
    {
     "name": "stdout",
     "output_type": "stream",
     "text": [
      "Bonus, 2nd try (using RegEx searches): The name Bezukhov occurs 72 times in War and Peace.\n"
     ]
    }
   ],
   "source": [
    "print(\"Bonus, 2nd try (using RegEx searches): The name Bezukhov \\\n",
    "occurs {} times in War and Peace.\".format(altCountNameOccurences()))"
   ]
  },
  {
   "cell_type": "code",
   "execution_count": null,
   "metadata": {
    "collapsed": true
   },
   "outputs": [],
   "source": []
  }
 ],
 "metadata": {
  "kernelspec": {
   "display_name": "Python 3",
   "language": "python",
   "name": "python3"
  },
  "language_info": {
   "codemirror_mode": {
    "name": "ipython",
    "version": 3
   },
   "file_extension": ".py",
   "mimetype": "text/x-python",
   "name": "python",
   "nbconvert_exporter": "python",
   "pygments_lexer": "ipython3",
   "version": "3.5.1"
  }
 },
 "nbformat": 4,
 "nbformat_minor": 0
}
